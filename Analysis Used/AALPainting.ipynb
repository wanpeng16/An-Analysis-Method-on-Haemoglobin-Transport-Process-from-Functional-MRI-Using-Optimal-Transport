{
 "cells": [
  {
   "cell_type": "code",
   "execution_count": 52,
   "metadata": {},
   "outputs": [],
   "source": [
    "import numpy as np\n",
    "import colorsys\n",
    "from nilearn import datasets\n",
    "import nibabel as nib"
   ]
  },
  {
   "cell_type": "code",
   "execution_count": 5,
   "metadata": {},
   "outputs": [
    {
     "name": "stderr",
     "output_type": "stream",
     "text": [
      "c:\\users\\yin\\appdata\\local\\programs\\python\\python36\\lib\\site-packages\\numpy\\lib\\npyio.py:2266: VisibleDeprecationWarning: Reading unicode strings without specifying the encoding argument is deprecated. Set the encoding, use None for the system default.\n",
      "  output = genfromtxt(fname, **kwargs)\n"
     ]
    }
   ],
   "source": [
    "atlas_data = datasets.fetch_atlas_msdl()\n",
    "atlas_filename = atlas_data.maps\n",
    "DMN = nib.load(atlas_filename)\n",
    "DMNlabels = atlas_data.labels"
   ]
  },
  {
   "cell_type": "code",
   "execution_count": 7,
   "metadata": {},
   "outputs": [
    {
     "name": "stderr",
     "output_type": "stream",
     "text": [
      "c:\\users\\yin\\appdata\\local\\programs\\python\\python36\\lib\\site-packages\\ipykernel_launcher.py:1: DeprecationWarning: get_affine method is deprecated.\n",
      "Please use the ``img.affine`` property instead.\n",
      "\n",
      "* deprecated from version: 2.1\n",
      "* Will raise <class 'nibabel.deprecator.ExpiredDeprecationError'> as of version: 4.0\n",
      "  \"\"\"Entry point for launching an IPython kernel.\n"
     ]
    }
   ],
   "source": [
    "DMNaffine = DMN.get_affine()"
   ]
  },
  {
   "cell_type": "code",
   "execution_count": 9,
   "metadata": {},
   "outputs": [],
   "source": [
    "DMNdata = DMN.get_fdata()"
   ]
  },
  {
   "cell_type": "code",
   "execution_count": 41,
   "metadata": {},
   "outputs": [],
   "source": [
    "dmn = DMNdata[:,:,:,3:7]"
   ]
  },
  {
   "cell_type": "code",
   "execution_count": 42,
   "metadata": {},
   "outputs": [
    {
     "data": {
      "text/plain": [
       "(40, 48, 35, 4)"
      ]
     },
     "execution_count": 42,
     "metadata": {},
     "output_type": "execute_result"
    }
   ],
   "source": [
    "dmn.shape"
   ]
  },
  {
   "cell_type": "code",
   "execution_count": 43,
   "metadata": {},
   "outputs": [],
   "source": [
    "tdmn = dmn>0"
   ]
  },
  {
   "cell_type": "code",
   "execution_count": 44,
   "metadata": {},
   "outputs": [
    {
     "data": {
      "text/plain": [
       "1027"
      ]
     },
     "execution_count": 44,
     "metadata": {},
     "output_type": "execute_result"
    }
   ],
   "source": [
    "tdmn.sum()"
   ]
  },
  {
   "cell_type": "code",
   "execution_count": 26,
   "metadata": {},
   "outputs": [],
   "source": [
    "from nibabel.affines import apply_affine"
   ]
  },
  {
   "cell_type": "code",
   "execution_count": 24,
   "metadata": {},
   "outputs": [
    {
     "name": "stdout",
     "output_type": "stream",
     "text": [
      "1\n",
      "2\n",
      "3\n",
      "4\n",
      "5\n",
      "6\n",
      "7\n",
      "8\n",
      "9\n",
      "10\n",
      "11\n",
      "12\n"
     ]
    }
   ],
   "source": [
    "for i in range(0,35,3):\n",
    "    j = j+1\n",
    "    print(j)"
   ]
  },
  {
   "cell_type": "code",
   "execution_count": 45,
   "metadata": {},
   "outputs": [],
   "source": [
    "DMNpos = np.zeros(3*1027)\n",
    "DMNpos = DMNpos.reshape(1027, 3)\n",
    "o = 0\n",
    "for s in range(4):\n",
    "    D = dmn[:,:,:,s]\n",
    "    for i in range(40):\n",
    "        for j in range(48):\n",
    "            for k in range(35):\n",
    "                if D[i,j,k] > 0:\n",
    "                    DMNpos[o,:] = i,j,k\n",
    "                    o = o+1"
   ]
  },
  {
   "cell_type": "code",
   "execution_count": 46,
   "metadata": {},
   "outputs": [
    {
     "data": {
      "text/plain": [
       "array([[ 5., 11., 19.],\n",
       "       [ 5., 11., 20.],\n",
       "       [ 5., 11., 21.],\n",
       "       ...,\n",
       "       [35., 14., 21.],\n",
       "       [35., 15., 18.],\n",
       "       [36., 14., 18.]])"
      ]
     },
     "execution_count": 46,
     "metadata": {},
     "output_type": "execute_result"
    }
   ],
   "source": [
    "DMNpos"
   ]
  },
  {
   "cell_type": "code",
   "execution_count": 48,
   "metadata": {},
   "outputs": [],
   "source": [
    "MNIDMNpos = np.zeros(DMNpos.shape)\n",
    "for i in range(MNIDMNpos.shape[0]):\n",
    "    get = DMNpos[i]\n",
    "    at = apply_affine(DMNaffine,get)\n",
    "    MNIDMNpos[i] = at"
   ]
  },
  {
   "cell_type": "code",
   "execution_count": 58,
   "metadata": {},
   "outputs": [
    {
     "ename": "FileNotFoundError",
     "evalue": "[Errno 2] No such file or directory: 'C:\\\\Users\\\\Yin\\\\Desktop\\\\ADHD200\\\\MNIspos.npy'",
     "output_type": "error",
     "traceback": [
      "\u001b[1;31m---------------------------------------------------------------------------\u001b[0m",
      "\u001b[1;31mFileNotFoundError\u001b[0m                         Traceback (most recent call last)",
      "\u001b[1;32m<ipython-input-58-dfe0fb4e0b51>\u001b[0m in \u001b[0;36m<module>\u001b[1;34m()\u001b[0m\n\u001b[0;32m      1\u001b[0m \u001b[0mDMNMNI\u001b[0m \u001b[1;33m=\u001b[0m \u001b[0mnp\u001b[0m\u001b[1;33m.\u001b[0m\u001b[0mload\u001b[0m\u001b[1;33m(\u001b[0m\u001b[1;34m\"C:\\\\Users\\Yin\\Desktop\\ADHD200\\MNIDMNpos.npy\"\u001b[0m\u001b[1;33m)\u001b[0m\u001b[1;33m\u001b[0m\u001b[0m\n\u001b[1;32m----> 2\u001b[1;33m \u001b[0mMNIspos\u001b[0m \u001b[1;33m=\u001b[0m \u001b[0mnp\u001b[0m\u001b[1;33m.\u001b[0m\u001b[0mload\u001b[0m\u001b[1;33m(\u001b[0m\u001b[1;34m\"C:\\\\Users\\Yin\\Desktop\\ADHD200\\MNIspos.npy\"\u001b[0m\u001b[1;33m)\u001b[0m\u001b[1;33m\u001b[0m\u001b[0m\n\u001b[0m",
      "\u001b[1;32mc:\\users\\yin\\appdata\\local\\programs\\python\\python36\\lib\\site-packages\\numpy\\lib\\npyio.py\u001b[0m in \u001b[0;36mload\u001b[1;34m(file, mmap_mode, allow_pickle, fix_imports, encoding)\u001b[0m\n\u001b[0;32m    370\u001b[0m     \u001b[0mown_fid\u001b[0m \u001b[1;33m=\u001b[0m \u001b[1;32mFalse\u001b[0m\u001b[1;33m\u001b[0m\u001b[0m\n\u001b[0;32m    371\u001b[0m     \u001b[1;32mif\u001b[0m \u001b[0misinstance\u001b[0m\u001b[1;33m(\u001b[0m\u001b[0mfile\u001b[0m\u001b[1;33m,\u001b[0m \u001b[0mbasestring\u001b[0m\u001b[1;33m)\u001b[0m\u001b[1;33m:\u001b[0m\u001b[1;33m\u001b[0m\u001b[0m\n\u001b[1;32m--> 372\u001b[1;33m         \u001b[0mfid\u001b[0m \u001b[1;33m=\u001b[0m \u001b[0mopen\u001b[0m\u001b[1;33m(\u001b[0m\u001b[0mfile\u001b[0m\u001b[1;33m,\u001b[0m \u001b[1;34m\"rb\"\u001b[0m\u001b[1;33m)\u001b[0m\u001b[1;33m\u001b[0m\u001b[0m\n\u001b[0m\u001b[0;32m    373\u001b[0m         \u001b[0mown_fid\u001b[0m \u001b[1;33m=\u001b[0m \u001b[1;32mTrue\u001b[0m\u001b[1;33m\u001b[0m\u001b[0m\n\u001b[0;32m    374\u001b[0m     \u001b[1;32melif\u001b[0m \u001b[0mis_pathlib_path\u001b[0m\u001b[1;33m(\u001b[0m\u001b[0mfile\u001b[0m\u001b[1;33m)\u001b[0m\u001b[1;33m:\u001b[0m\u001b[1;33m\u001b[0m\u001b[0m\n",
      "\u001b[1;31mFileNotFoundError\u001b[0m: [Errno 2] No such file or directory: 'C:\\\\Users\\\\Yin\\\\Desktop\\\\ADHD200\\\\MNIspos.npy'"
     ]
    }
   ],
   "source": [
    "DMNMNI = np.load(\"C:\\\\Users\\Yin\\Desktop\\ADHD200\\MNIDMNpos.npy\")"
   ]
  },
  {
   "cell_type": "code",
   "execution_count": 59,
   "metadata": {},
   "outputs": [
    {
     "data": {
      "text/plain": [
       "array([[ 72., -30.,  -6.],\n",
       "       [ 66., -54.,  -6.],\n",
       "       [ 66., -54.,   0.],\n",
       "       ...,\n",
       "       [-66.,  -6.,  12.],\n",
       "       [-66.,  -6.,  18.],\n",
       "       [-66.,  -6.,  24.]])"
      ]
     },
     "execution_count": 59,
     "metadata": {},
     "output_type": "execute_result"
    }
   ],
   "source": [
    "Pos"
   ]
  },
  {
   "cell_type": "code",
   "execution_count": 60,
   "metadata": {},
   "outputs": [
    {
     "data": {
      "text/plain": [
       "(1027, 3)"
      ]
     },
     "execution_count": 60,
     "metadata": {},
     "output_type": "execute_result"
    }
   ],
   "source": [
    "DMNMNI.shape"
   ]
  },
  {
   "cell_type": "code",
   "execution_count": 72,
   "metadata": {},
   "outputs": [
    {
     "data": {
      "text/plain": [
       "16634.0"
      ]
     },
     "execution_count": 72,
     "metadata": {},
     "output_type": "execute_result"
    }
   ],
   "source": [
    "((Pos[2]-DMNMNI[2])**2).sum()"
   ]
  },
  {
   "cell_type": "code",
   "execution_count": 74,
   "metadata": {},
   "outputs": [],
   "source": [
    "a = np.array(range(19))"
   ]
  },
  {
   "cell_type": "code",
   "execution_count": 77,
   "metadata": {},
   "outputs": [
    {
     "data": {
      "text/plain": [
       "0"
      ]
     },
     "execution_count": 77,
     "metadata": {},
     "output_type": "execute_result"
    }
   ],
   "source": [
    "np.where(a==a.min())[0][0]"
   ]
  },
  {
   "cell_type": "code",
   "execution_count": 80,
   "metadata": {},
   "outputs": [],
   "source": [
    "DMNinSpos = np.zeros(8468)\n",
    "for k in range(1027):\n",
    "    DMNpos = DMNMNI[k]\n",
    "    temp = np.zeros(8468)\n",
    "    for i in range(8468):\n",
    "        temp[i] = ((Pos[i]-DMNpos)**2).sum()\n",
    "    DMNinSpos[np.where(temp==temp.min())[0][0]] = 1"
   ]
  },
  {
   "cell_type": "code",
   "execution_count": 82,
   "metadata": {},
   "outputs": [
    {
     "data": {
      "text/plain": [
       "408.0"
      ]
     },
     "execution_count": 82,
     "metadata": {},
     "output_type": "execute_result"
    }
   ],
   "source": [
    "DMNinSpos.sum()"
   ]
  },
  {
   "cell_type": "code",
   "execution_count": 83,
   "metadata": {},
   "outputs": [],
   "source": [
    "np.save(\"DMNinSpos\",DMNinSpos)"
   ]
  },
  {
   "cell_type": "code",
   "execution_count": 51,
   "metadata": {},
   "outputs": [],
   "source": [
    "np.save(\"MNIDMNpos\",MNIDMNpos)"
   ]
  },
  {
   "cell_type": "code",
   "execution_count": 56,
   "metadata": {},
   "outputs": [],
   "source": [
    "posdirc = \"C:\\\\Users\\Yin\\Desktop\\ADHD200\\Pos\\MNIspos.npy\"\n",
    "AALatlas = np.load(\"C:\\\\Users\\Yin\\Desktop\\ADHD200\\AALatlas.npy\")\n",
    "AALlabelsAb = np.load(\"C:\\\\Users\\Yin\\Desktop\\ADHD200\\AALlabelsAb.npy\")\n",
    "AALlabelsFu = np.load(\"C:\\\\Users\\Yin\\Desktop\\ADHD200\\AALlabelsFu.npy\")\n",
    "dic = \"C:\\\\Users\\Yin\\Desktop\\ADHD200\\Pos\\spos.npy\"\n",
    "Pos = np.load(posdirc)\n",
    "spos = np.load(dic)"
   ]
  },
  {
   "cell_type": "code",
   "execution_count": 3,
   "metadata": {},
   "outputs": [
    {
     "data": {
      "text/plain": [
       "(8468, 3)"
      ]
     },
     "execution_count": 3,
     "metadata": {},
     "output_type": "execute_result"
    }
   ],
   "source": [
    "Pos.shape"
   ]
  },
  {
   "cell_type": "code",
   "execution_count": 4,
   "metadata": {},
   "outputs": [
    {
     "data": {
      "text/plain": [
       "array([[ 9., 48., 33.],\n",
       "       [12., 36., 33.],\n",
       "       [12., 36., 36.],\n",
       "       ...,\n",
       "       [78., 60., 42.],\n",
       "       [78., 60., 45.],\n",
       "       [78., 60., 48.]])"
      ]
     },
     "execution_count": 4,
     "metadata": {},
     "output_type": "execute_result"
    }
   ],
   "source": [
    "spos"
   ]
  },
  {
   "cell_type": "code",
   "execution_count": 5,
   "metadata": {},
   "outputs": [
    {
     "data": {
      "text/plain": [
       "0"
      ]
     },
     "execution_count": 5,
     "metadata": {},
     "output_type": "execute_result"
    }
   ],
   "source": [
    "AALatlas[1,3,2]"
   ]
  },
  {
   "cell_type": "code",
   "execution_count": 103,
   "metadata": {},
   "outputs": [],
   "source": [
    "HSV = np.zeros(117*3)\n",
    "HSV = HSV.reshape(117,3)"
   ]
  },
  {
   "cell_type": "code",
   "execution_count": 104,
   "metadata": {},
   "outputs": [],
   "source": [
    "RGB = np.zeros(117*3)\n",
    "RGB = RGB.reshape(117,3)"
   ]
  },
  {
   "cell_type": "code",
   "execution_count": 105,
   "metadata": {},
   "outputs": [],
   "source": [
    "for i in range(1,117):\n",
    "    if i == 0:\n",
    "        H =0\n",
    "        S =0\n",
    "        V =100\n",
    "    if  0<i< 34:\n",
    "        H = 10*i\n",
    "        S = 100\n",
    "        V = 100\n",
    "    if 33<i<66:\n",
    "        H = 10*(i-33)\n",
    "        S = 60\n",
    "        V = 100\n",
    "    if 66<i<99:\n",
    "        H = 10*(i-66)\n",
    "        S = 30\n",
    "        V = 80\n",
    "    if  99<i<117:\n",
    "        H = 10*(i-99)\n",
    "        S = 80\n",
    "        V = 50\n",
    "    HSV[i] = H,S,V"
   ]
  },
  {
   "cell_type": "code",
   "execution_count": 106,
   "metadata": {},
   "outputs": [],
   "source": [
    "for i in range(0,117):\n",
    "    h,s,v = HSV[i]\n",
    "    h = h/360\n",
    "    s = s/100\n",
    "    v = v/100\n",
    "    r,g,b = colorsys.hsv_to_rgb(h,s,v)\n",
    "    RGB[i] = r,g,b"
   ]
  },
  {
   "cell_type": "code",
   "execution_count": 107,
   "metadata": {},
   "outputs": [],
   "source": [
    "RGB = RGB*255"
   ]
  },
  {
   "cell_type": "code",
   "execution_count": 108,
   "metadata": {},
   "outputs": [
    {
     "data": {
      "text/plain": [
       "array([[  0. ,   0. ,   0. ],\n",
       "       [255. ,  42.5,   0. ],\n",
       "       [255. ,  85. ,   0. ],\n",
       "       [255. , 127.5,   0. ],\n",
       "       [255. , 170. ,   0. ],\n",
       "       [255. , 212.5,   0. ],\n",
       "       [255. , 255. ,   0. ],\n",
       "       [212.5, 255. ,   0. ],\n",
       "       [170. , 255. ,   0. ],\n",
       "       [127.5, 255. ,   0. ],\n",
       "       [ 85. , 255. ,   0. ],\n",
       "       [ 42.5, 255. ,   0. ],\n",
       "       [  0. , 255. ,   0. ],\n",
       "       [  0. , 255. ,  42.5],\n",
       "       [  0. , 255. ,  85. ],\n",
       "       [  0. , 255. , 127.5],\n",
       "       [  0. , 255. , 170. ],\n",
       "       [  0. , 255. , 212.5],\n",
       "       [  0. , 255. , 255. ],\n",
       "       [  0. , 212.5, 255. ],\n",
       "       [  0. , 170. , 255. ],\n",
       "       [  0. , 127.5, 255. ],\n",
       "       [  0. ,  85. , 255. ],\n",
       "       [  0. ,  42.5, 255. ],\n",
       "       [  0. ,   0. , 255. ],\n",
       "       [ 42.5,   0. , 255. ],\n",
       "       [ 85. ,   0. , 255. ],\n",
       "       [127.5,   0. , 255. ],\n",
       "       [170. ,   0. , 255. ],\n",
       "       [212.5,   0. , 255. ],\n",
       "       [255. ,   0. , 255. ],\n",
       "       [255. ,   0. , 212.5],\n",
       "       [255. ,   0. , 170. ],\n",
       "       [255. ,   0. , 127.5],\n",
       "       [255. , 127.5, 102. ],\n",
       "       [255. , 153. , 102. ],\n",
       "       [255. , 178.5, 102. ],\n",
       "       [255. , 204. , 102. ],\n",
       "       [255. , 229.5, 102. ],\n",
       "       [255. , 255. , 102. ],\n",
       "       [229.5, 255. , 102. ],\n",
       "       [204. , 255. , 102. ],\n",
       "       [178.5, 255. , 102. ],\n",
       "       [153. , 255. , 102. ],\n",
       "       [127.5, 255. , 102. ],\n",
       "       [102. , 255. , 102. ],\n",
       "       [102. , 255. , 127.5],\n",
       "       [102. , 255. , 153. ],\n",
       "       [102. , 255. , 178.5],\n",
       "       [102. , 255. , 204. ],\n",
       "       [102. , 255. , 229.5],\n",
       "       [102. , 255. , 255. ],\n",
       "       [102. , 229.5, 255. ],\n",
       "       [102. , 204. , 255. ],\n",
       "       [102. , 178.5, 255. ],\n",
       "       [102. , 153. , 255. ],\n",
       "       [102. , 127.5, 255. ],\n",
       "       [102. , 102. , 255. ],\n",
       "       [127.5, 102. , 255. ],\n",
       "       [153. , 102. , 255. ],\n",
       "       [178.5, 102. , 255. ],\n",
       "       [204. , 102. , 255. ],\n",
       "       [229.5, 102. , 255. ],\n",
       "       [255. , 102. , 255. ],\n",
       "       [255. , 102. , 229.5],\n",
       "       [255. , 102. , 204. ],\n",
       "       [255. , 102. , 204. ],\n",
       "       [204. , 153. , 142.8],\n",
       "       [204. , 163.2, 142.8],\n",
       "       [204. , 173.4, 142.8],\n",
       "       [204. , 183.6, 142.8],\n",
       "       [204. , 193.8, 142.8],\n",
       "       [204. , 204. , 142.8],\n",
       "       [193.8, 204. , 142.8],\n",
       "       [183.6, 204. , 142.8],\n",
       "       [173.4, 204. , 142.8],\n",
       "       [163.2, 204. , 142.8],\n",
       "       [153. , 204. , 142.8],\n",
       "       [142.8, 204. , 142.8],\n",
       "       [142.8, 204. , 153. ],\n",
       "       [142.8, 204. , 163.2],\n",
       "       [142.8, 204. , 173.4],\n",
       "       [142.8, 204. , 183.6],\n",
       "       [142.8, 204. , 193.8],\n",
       "       [142.8, 204. , 204. ],\n",
       "       [142.8, 193.8, 204. ],\n",
       "       [142.8, 183.6, 204. ],\n",
       "       [142.8, 173.4, 204. ],\n",
       "       [142.8, 163.2, 204. ],\n",
       "       [142.8, 153. , 204. ],\n",
       "       [142.8, 142.8, 204. ],\n",
       "       [153. , 142.8, 204. ],\n",
       "       [163.2, 142.8, 204. ],\n",
       "       [173.4, 142.8, 204. ],\n",
       "       [183.6, 142.8, 204. ],\n",
       "       [193.8, 142.8, 204. ],\n",
       "       [204. , 142.8, 204. ],\n",
       "       [204. , 142.8, 193.8],\n",
       "       [204. , 142.8, 183.6],\n",
       "       [204. , 142.8, 183.6],\n",
       "       [127.5,  42.5,  25.5],\n",
       "       [127.5,  59.5,  25.5],\n",
       "       [127.5,  76.5,  25.5],\n",
       "       [127.5,  93.5,  25.5],\n",
       "       [127.5, 110.5,  25.5],\n",
       "       [127.5, 127.5,  25.5],\n",
       "       [110.5, 127.5,  25.5],\n",
       "       [ 93.5, 127.5,  25.5],\n",
       "       [ 76.5, 127.5,  25.5],\n",
       "       [ 59.5, 127.5,  25.5],\n",
       "       [ 42.5, 127.5,  25.5],\n",
       "       [ 25.5, 127.5,  25.5],\n",
       "       [ 25.5, 127.5,  42.5],\n",
       "       [ 25.5, 127.5,  59.5],\n",
       "       [ 25.5, 127.5,  76.5],\n",
       "       [ 25.5, 127.5,  93.5],\n",
       "       [ 25.5, 127.5, 110.5]])"
      ]
     },
     "execution_count": 108,
     "metadata": {},
     "output_type": "execute_result"
    }
   ],
   "source": [
    "RGB"
   ]
  },
  {
   "cell_type": "code",
   "execution_count": 109,
   "metadata": {},
   "outputs": [],
   "source": [
    "colors = np.zeros(8468*3)\n",
    "colors = colors.reshape(8468,3)"
   ]
  },
  {
   "cell_type": "code",
   "execution_count": 110,
   "metadata": {},
   "outputs": [
    {
     "data": {
      "text/plain": [
       "(117, 3)"
      ]
     },
     "execution_count": 110,
     "metadata": {},
     "output_type": "execute_result"
    }
   ],
   "source": [
    "RGB.shape"
   ]
  },
  {
   "cell_type": "code",
   "execution_count": null,
   "metadata": {},
   "outputs": [],
   "source": [
    "colors = np.zeros(8468*3)\n",
    "colors = colors.reshape(8468,3)"
   ]
  },
  {
   "cell_type": "code",
   "execution_count": 13,
   "metadata": {},
   "outputs": [],
   "source": [
    "markpos = np.zeros(8468)"
   ]
  },
  {
   "cell_type": "code",
   "execution_count": 111,
   "metadata": {},
   "outputs": [],
   "source": [
    "for i in range(8468):\n",
    "    x,y,z = spos[i].astype(int)\n",
    "    mark = AALatlas[x,y,z]\n",
    "    r,g,b = RGB[mark]\n",
    "    colors[i] = r,g,b"
   ]
  },
  {
   "cell_type": "code",
   "execution_count": 14,
   "metadata": {},
   "outputs": [],
   "source": [
    "for i in range(8468):\n",
    "    x,y,z = spos[i].astype(int)\n",
    "    mark = AALatlas[x,y,z]\n",
    "    markpos[i] = mark"
   ]
  },
  {
   "cell_type": "code",
   "execution_count": 16,
   "metadata": {},
   "outputs": [
    {
     "data": {
      "text/plain": [
       "(8468,)"
      ]
     },
     "execution_count": 16,
     "metadata": {},
     "output_type": "execute_result"
    }
   ],
   "source": [
    "markpos.shape"
   ]
  },
  {
   "cell_type": "code",
   "execution_count": 114,
   "metadata": {},
   "outputs": [],
   "source": [
    "np.save(\"colorMap\",colors)"
   ]
  },
  {
   "cell_type": "code",
   "execution_count": 17,
   "metadata": {},
   "outputs": [],
   "source": [
    "np.save(\"AAlatlasMap\",markpos)"
   ]
  },
  {
   "cell_type": "code",
   "execution_count": 18,
   "metadata": {},
   "outputs": [
    {
     "data": {
      "text/plain": [
       "(8468,)"
      ]
     },
     "execution_count": 18,
     "metadata": {},
     "output_type": "execute_result"
    }
   ],
   "source": [
    "markpos.shape"
   ]
  },
  {
   "cell_type": "code",
   "execution_count": 20,
   "metadata": {},
   "outputs": [
    {
     "data": {
      "text/plain": [
       "array([False, False, False, ..., False, False, False])"
      ]
     },
     "execution_count": 20,
     "metadata": {},
     "output_type": "execute_result"
    }
   ],
   "source": [
    "markpos== 2"
   ]
  },
  {
   "cell_type": "code",
   "execution_count": 22,
   "metadata": {},
   "outputs": [],
   "source": [
    "l  =np.where(markpos==2)"
   ]
  },
  {
   "cell_type": "code",
   "execution_count": 34,
   "metadata": {},
   "outputs": [],
   "source": [
    "l2 = np.where(markpos==3)"
   ]
  },
  {
   "cell_type": "code",
   "execution_count": 43,
   "metadata": {},
   "outputs": [
    {
     "data": {
      "text/plain": [
       "array([5297, 5315, 5330, 5333, 5346, 5347, 5361, 5362, 5363, 5377, 5378,\n",
       "       5379, 5392, 5393, 5394, 5395, 5406, 5407, 5408, 5409, 5419, 5420,\n",
       "       5421, 5422, 5423, 5432, 5433, 5434, 5435, 5436, 5445, 5446, 5447,\n",
       "       5448, 5456, 5458, 5463, 5465, 5466, 5468, 5784, 5801, 5802, 5804,\n",
       "       5821, 5822, 5823, 5824, 5840, 5841, 5842, 5843, 5855, 5856, 5857,\n",
       "       5858, 5859, 5871, 5872, 5873, 5874, 5886, 5887, 5888, 5889, 5899,\n",
       "       5900, 5901, 5902, 5903, 5912, 5913, 5914, 5915, 5922, 5925, 5926,\n",
       "       5930, 5931, 5932, 5933, 5934, 5935, 5936, 5940, 5941, 5942, 5943,\n",
       "       5944, 5945, 5948, 5949, 5950, 5951, 5952, 6234, 6254, 6255, 6256,\n",
       "       6257, 6277, 6278, 6298, 6318, 6335, 6337, 6375, 6377, 6388, 6389,\n",
       "       6393, 6400, 6403, 6404, 6407, 6412, 6413, 6414, 6415, 6416, 6417,\n",
       "       6420, 6421, 6422, 6714, 6734, 6843, 6847, 6856, 6864, 6868, 7287],\n",
       "      dtype=int64)"
      ]
     },
     "execution_count": 43,
     "metadata": {},
     "output_type": "execute_result"
    }
   ],
   "source": [
    "l2[0]"
   ]
  },
  {
   "cell_type": "code",
   "execution_count": 40,
   "metadata": {},
   "outputs": [],
   "source": [
    "l3 = np.append(l[0],l2[0])"
   ]
  },
  {
   "cell_type": "code",
   "execution_count": 44,
   "metadata": {},
   "outputs": [
    {
     "data": {
      "text/plain": [
       "array([  96,  231,  244,  253,  254,  255,  256,  428,  429,  445,  446,\n",
       "        458,  459,  460,  461,  462,  463,  473,  475,  476,  477,  478,\n",
       "        491,  492,  707,  708,  710,  725,  726,  727,  728,  742,  743,\n",
       "        744,  746,  759,  760,  761,  762,  763,  777,  778,  779,  780,\n",
       "       1050, 1051, 1065, 1066, 1067, 1068, 1069, 1083, 1084, 1085, 1086,\n",
       "       1087, 1088, 1103, 1104, 1105, 1107, 1122, 1123, 1124, 1139, 1141,\n",
       "       1142, 1462, 1463, 1464, 1478, 1479, 1480, 1481, 1482, 1498, 1499,\n",
       "       1500, 1501, 1518, 1519, 1536, 1537, 1538, 1897, 1898, 1899, 1900,\n",
       "       1916, 1917, 1918, 1935, 1938, 1955, 1956, 1975, 2346, 2347, 2363,\n",
       "       2364, 2365, 2381, 2382, 2383, 2831, 2832, 2850, 2851, 2852, 2869,\n",
       "       2870, 2871, 3319, 3360, 5297, 5315, 5330, 5333, 5346, 5347, 5361,\n",
       "       5362, 5363, 5377, 5378, 5379, 5392, 5393, 5394, 5395, 5406, 5407,\n",
       "       5408, 5409, 5419, 5420, 5421, 5422, 5423, 5432, 5433, 5434, 5435,\n",
       "       5436, 5445, 5446, 5447, 5448, 5456, 5458, 5463, 5465, 5466, 5468,\n",
       "       5784, 5801, 5802, 5804, 5821, 5822, 5823, 5824, 5840, 5841, 5842,\n",
       "       5843, 5855, 5856, 5857, 5858, 5859, 5871, 5872, 5873, 5874, 5886,\n",
       "       5887, 5888, 5889, 5899, 5900, 5901, 5902, 5903, 5912, 5913, 5914,\n",
       "       5915, 5922, 5925, 5926, 5930, 5931, 5932, 5933, 5934, 5935, 5936,\n",
       "       5940, 5941, 5942, 5943, 5944, 5945, 5948, 5949, 5950, 5951, 5952,\n",
       "       6234, 6254, 6255, 6256, 6257, 6277, 6278, 6298, 6318, 6335, 6337,\n",
       "       6375, 6377, 6388, 6389, 6393, 6400, 6403, 6404, 6407, 6412, 6413,\n",
       "       6414, 6415, 6416, 6417, 6420, 6421, 6422, 6714, 6734, 6843, 6847,\n",
       "       6856, 6864, 6868, 7287], dtype=int64)"
      ]
     },
     "execution_count": 44,
     "metadata": {},
     "output_type": "execute_result"
    }
   ],
   "source": [
    "l3"
   ]
  },
  {
   "cell_type": "code",
   "execution_count": 30,
   "metadata": {},
   "outputs": [
    {
     "name": "stdout",
     "output_type": "stream",
     "text": [
      "96\n",
      "231\n",
      "244\n",
      "253\n",
      "254\n",
      "255\n",
      "256\n",
      "428\n",
      "429\n",
      "445\n",
      "446\n",
      "458\n",
      "459\n",
      "460\n",
      "461\n",
      "462\n",
      "463\n",
      "473\n",
      "475\n",
      "476\n",
      "477\n",
      "478\n",
      "491\n",
      "492\n",
      "707\n",
      "708\n",
      "710\n",
      "725\n",
      "726\n",
      "727\n",
      "728\n",
      "742\n",
      "743\n",
      "744\n",
      "746\n",
      "759\n",
      "760\n",
      "761\n",
      "762\n",
      "763\n",
      "777\n",
      "778\n",
      "779\n",
      "780\n",
      "1050\n",
      "1051\n",
      "1065\n",
      "1066\n",
      "1067\n",
      "1068\n",
      "1069\n",
      "1083\n",
      "1084\n",
      "1085\n",
      "1086\n",
      "1087\n",
      "1088\n",
      "1103\n",
      "1104\n",
      "1105\n",
      "1107\n",
      "1122\n",
      "1123\n",
      "1124\n",
      "1139\n",
      "1141\n",
      "1142\n",
      "1462\n",
      "1463\n",
      "1464\n",
      "1478\n",
      "1479\n",
      "1480\n",
      "1481\n",
      "1482\n",
      "1498\n",
      "1499\n",
      "1500\n",
      "1501\n",
      "1518\n",
      "1519\n",
      "1536\n",
      "1537\n",
      "1538\n",
      "1897\n",
      "1898\n",
      "1899\n",
      "1900\n",
      "1916\n",
      "1917\n",
      "1918\n",
      "1935\n",
      "1938\n",
      "1955\n",
      "1956\n",
      "1975\n",
      "2346\n",
      "2347\n",
      "2363\n",
      "2364\n",
      "2365\n",
      "2381\n",
      "2382\n",
      "2383\n",
      "2831\n",
      "2832\n",
      "2850\n",
      "2851\n",
      "2852\n",
      "2869\n",
      "2870\n",
      "2871\n",
      "3319\n",
      "3360\n"
     ]
    }
   ],
   "source": [
    "for i in l[0]:\n",
    "    print(i)"
   ]
  },
  {
   "cell_type": "code",
   "execution_count": 38,
   "metadata": {},
   "outputs": [
    {
     "data": {
      "text/plain": [
       "231"
      ]
     },
     "execution_count": 38,
     "metadata": {},
     "output_type": "execute_result"
    }
   ],
   "source": [
    "l[0][1]"
   ]
  },
  {
   "cell_type": "code",
   "execution_count": 27,
   "metadata": {},
   "outputs": [
    {
     "data": {
      "text/plain": [
       "(array([  96,  231,  244,  253,  254,  255,  256,  428,  429,  445,  446,\n",
       "         458,  459,  460,  461,  462,  463,  473,  475,  476,  477,  478,\n",
       "         491,  492,  707,  708,  710,  725,  726,  727,  728,  742,  743,\n",
       "         744,  746,  759,  760,  761,  762,  763,  777,  778,  779,  780,\n",
       "        1050, 1051, 1065, 1066, 1067, 1068, 1069, 1083, 1084, 1085, 1086,\n",
       "        1087, 1088, 1103, 1104, 1105, 1107, 1122, 1123, 1124, 1139, 1141,\n",
       "        1142, 1462, 1463, 1464, 1478, 1479, 1480, 1481, 1482, 1498, 1499,\n",
       "        1500, 1501, 1518, 1519, 1536, 1537, 1538, 1897, 1898, 1899, 1900,\n",
       "        1916, 1917, 1918, 1935, 1938, 1955, 1956, 1975, 2346, 2347, 2363,\n",
       "        2364, 2365, 2381, 2382, 2383, 2831, 2832, 2850, 2851, 2852, 2869,\n",
       "        2870, 2871, 3319, 3360], dtype=int64),)"
      ]
     },
     "execution_count": 27,
     "metadata": {},
     "output_type": "execute_result"
    }
   ],
   "source": [
    "l"
   ]
  },
  {
   "cell_type": "code",
   "execution_count": null,
   "metadata": {},
   "outputs": [],
   "source": [
    "partlist = np.append(chosepart(m1),chosepart(m2))"
   ]
  }
 ],
 "metadata": {
  "kernelspec": {
   "display_name": "Python 3",
   "language": "python",
   "name": "python3"
  },
  "language_info": {
   "codemirror_mode": {
    "name": "ipython",
    "version": 3
   },
   "file_extension": ".py",
   "mimetype": "text/x-python",
   "name": "python",
   "nbconvert_exporter": "python",
   "pygments_lexer": "ipython3",
   "version": "3.6.4"
  }
 },
 "nbformat": 4,
 "nbformat_minor": 2
}
